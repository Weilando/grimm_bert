{
 "cells": [
  {
   "cell_type": "code",
   "execution_count": null,
   "metadata": {
    "collapsed": true,
    "pycharm": {
     "name": "#%%\n"
    }
   },
   "outputs": [],
   "source": [
    "import analysis.aggregator as ag\n",
    "import data.file_handler as fh\n",
    "from analysis.pipeline_blocks import evaluate_clustering\n",
    "from data.corpus_handler import CorpusName, CorpusHandler\n",
    "import plotly.express as px"
   ]
  },
  {
   "cell_type": "code",
   "execution_count": null,
   "outputs": [],
   "source": [
    "ABS_PATH = fh.add_and_get_abs_path('./data/results')\n",
    "dictionary = fh.load_df(ABS_PATH, 'Toy-linkage_complete-dist_0.4-dictionary.pkl')\n",
    "#dictionary = fh.load_df(ABS_PATH, 'SemCor-dist_0.4-dictionary.pkl')"
   ],
   "metadata": {
    "collapsed": false,
    "pycharm": {
     "name": "#%%\n"
    }
   }
  },
  {
   "cell_type": "code",
   "execution_count": null,
   "outputs": [],
   "source": [
    "ag.collect_references_and_word_vectors(\n",
    "    ag.unpack_per_word_vector(\n",
    "        dictionary,\n",
    "        ['reference_id', 'word_vector_id', 'sense']),\n",
    "    ['token', 'sense'])"
   ],
   "metadata": {
    "collapsed": false,
    "pycharm": {
     "name": "#%%\n"
    }
   }
  },
  {
   "cell_type": "markdown",
   "source": [
    "## Corpus Baseline"
   ],
   "metadata": {
    "collapsed": false,
    "pycharm": {
     "name": "#%% md\n"
    }
   }
  },
  {
   "cell_type": "code",
   "execution_count": null,
   "outputs": [],
   "source": [
    "corpus = CorpusHandler(CorpusName.SEMCOR, './data/corpus_cache')\n",
    "tagged_tokens = corpus.get_tagged_tokens()"
   ],
   "metadata": {
    "collapsed": false,
    "pycharm": {
     "name": "#%%\n"
    }
   }
  },
  {
   "cell_type": "code",
   "execution_count": null,
   "outputs": [],
   "source": [
    "ag.calc_corpus_statistics(corpus)"
   ],
   "metadata": {
    "collapsed": false,
    "pycharm": {
     "name": "#%%\n"
    }
   }
  },
  {
   "cell_type": "markdown",
   "source": [
    "One cluster/sense per token"
   ],
   "metadata": {
    "collapsed": false,
    "pycharm": {
     "name": "#%% md\n"
    }
   }
  },
  {
   "cell_type": "code",
   "execution_count": null,
   "outputs": [],
   "source": [
    "tagged_tokens['sense'] = range(tagged_tokens.token.count())\n",
    "tagged_tokens.sense.nunique(), evaluate_clustering(corpus, tagged_tokens)"
   ],
   "metadata": {
    "collapsed": false,
    "pycharm": {
     "name": "#%%\n"
    }
   }
  },
  {
   "cell_type": "markdown",
   "source": [
    "One cluster/sense per unique token"
   ],
   "metadata": {
    "collapsed": false,
    "pycharm": {
     "name": "#%% md\n"
    }
   }
  },
  {
   "cell_type": "code",
   "execution_count": null,
   "outputs": [],
   "source": [
    "tagged_tokens['sense'] = tagged_tokens.token.factorize()[0]\n",
    "tagged_tokens.sense.nunique(), evaluate_clustering(corpus, tagged_tokens)"
   ],
   "metadata": {
    "collapsed": false,
    "pycharm": {
     "name": "#%%\n"
    }
   }
  },
  {
   "cell_type": "markdown",
   "source": [
    "## Plots"
   ],
   "metadata": {
    "collapsed": false,
    "pycharm": {
     "name": "#%% md\n"
    }
   }
  },
  {
   "cell_type": "code",
   "execution_count": null,
   "outputs": [],
   "source": [
    "LABEL_DICT = {'unique_sense_count': 'Unique Sense Count',\n",
    "              'total_token_count': 'Total Token Count',\n",
    "              'unique_token_count': 'Unique Token Count'}\n",
    "WIDTH = 512\n",
    "HEIGHT = 256"
   ],
   "metadata": {
    "collapsed": false,
    "pycharm": {
     "name": "#%%\n"
    }
   }
  },
  {
   "cell_type": "code",
   "execution_count": null,
   "outputs": [],
   "source": [
    "tagged_tokens = corpus.get_tagged_tokens()\n",
    "tagged_tokens_and_counts = ag.count_unique_senses_per_token(tagged_tokens)\n",
    "token_counts_per_sense_count = ag.count_tokens_per_sense_count(tagged_tokens_and_counts)\n",
    "token_counts_per_sense_count.head()"
   ],
   "metadata": {
    "collapsed": false,
    "pycharm": {
     "name": "#%%\n"
    }
   }
  },
  {
   "cell_type": "code",
   "execution_count": null,
   "outputs": [],
   "source": [
    "fig = px.scatter(token_counts_per_sense_count, x='unique_sense_count', y='unique_token_count',\n",
    "                 color='total_token_count', size='total_token_count', color_continuous_scale=px.colors.sequential.Greys,\n",
    "                 log_x=True, log_y=True, labels=LABEL_DICT,\n",
    "                 template='plotly_white', width=WIDTH, height=WIDTH)\n",
    "fig.update_layout(coloraxis_colorbar=dict(title_side='right',\n",
    "                                          thicknessmode=\"fraction\", thickness=0.04,\n",
    "                                          ticks=\"outside\", dtick=10000))\n",
    "fig.update_traces(marker={'line': {'color': 'black'}})\n",
    "\n",
    "fig.show()\n",
    "#fig.write_image('data/plots/fig_semcor_tokens_and_senses.pdf')"
   ],
   "metadata": {
    "collapsed": false,
    "pycharm": {
     "name": "#%%\n"
    }
   }
  },
  {
   "cell_type": "code",
   "execution_count": null,
   "outputs": [],
   "source": [
    "tagged_tokens_and_counts[tagged_tokens_and_counts.unique_sense_count > 50].sort_values(by='unique_sense_count')"
   ],
   "metadata": {
    "collapsed": false,
    "pycharm": {
     "name": "#%%\n"
    }
   }
  },
  {
   "cell_type": "code",
   "execution_count": null,
   "outputs": [],
   "source": [],
   "metadata": {
    "collapsed": false,
    "pycharm": {
     "name": "#%%\n"
    }
   }
  }
 ],
 "metadata": {
  "kernelspec": {
   "display_name": "Python 3",
   "language": "python",
   "name": "python3"
  },
  "language_info": {
   "codemirror_mode": {
    "name": "ipython",
    "version": 2
   },
   "file_extension": ".py",
   "mimetype": "text/x-python",
   "name": "python",
   "nbconvert_exporter": "python",
   "pygments_lexer": "ipython2",
   "version": "2.7.6"
  }
 },
 "nbformat": 4,
 "nbformat_minor": 0
}