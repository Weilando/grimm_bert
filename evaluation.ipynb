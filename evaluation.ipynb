{
 "cells": [
  {
   "cell_type": "markdown",
   "source": [
    "# Evaluation\n",
    "## Setup"
   ],
   "metadata": {
    "collapsed": false,
    "pycharm": {
     "name": "#%% md\n"
    }
   }
  },
  {
   "cell_type": "code",
   "execution_count": null,
   "outputs": [],
   "source": [
    "import numpy as np\n",
    "import plotly.express as px\n",
    "import plotly.figure_factory as ff\n",
    "import pandas as pd\n",
    "\n",
    "import aggregation.aggregator as ag\n",
    "import data.file_handler as fh\n",
    "import data.file_name_generator as fg\n",
    "from aggregation.pipeline_blocks import add_sense_counts_to_id_map, calc_ari, calc_ari_per_token, calc_silhouette_score_per_token\n",
    "from clustering.metric_name import MetricName\n",
    "from data.corpus_handler import CorpusName, CorpusHandler"
   ],
   "metadata": {
    "collapsed": false,
    "pycharm": {
     "name": "#%%\n"
    }
   }
  },
  {
   "cell_type": "code",
   "execution_count": null,
   "outputs": [],
   "source": [
    "CORPUS_NAMES = [CorpusName.SEMCOR.value, CorpusName.SENSEVAL2.value,\n",
    "                CorpusName.SENSEVAL3.value, CorpusName.SEMEVAL07.value,\n",
    "                CorpusName.SEMEVAL13.value, CorpusName.SEMEVAL15.value]\n",
    "CORPUS_CACHE_PATH = './data/corpus_cache'\n",
    "RESULTS_PATH = fh.add_and_get_abs_path('./data/results')"
   ],
   "metadata": {
    "collapsed": false,
    "pycharm": {
     "name": "#%%\n"
    }
   }
  },
  {
   "cell_type": "code",
   "execution_count": null,
   "outputs": [],
   "source": [
    "SHOW_FIG = False\n",
    "SAVE_FIG = False"
   ],
   "metadata": {
    "collapsed": false,
    "pycharm": {
     "name": "#%%\n"
    }
   }
  },
  {
   "cell_type": "code",
   "execution_count": null,
   "outputs": [],
   "source": [
    "LABEL_DICT = {'unique_sense_count': 'Unique Sense Count',\n",
    "              'total_token_count': 'Total Token Count',\n",
    "              'unique_token_count': 'Unique Token Count',\n",
    "              'ari': 'ARI',\n",
    "              'silhouette_score': 'Silhouette Score'}"
   ],
   "metadata": {
    "collapsed": false,
    "pycharm": {
     "name": "#%%\n"
    }
   }
  },
  {
   "cell_type": "markdown",
   "source": [
    "## Corpus Evaluation\n",
    "### Corpus Statistics as LaTeX Table"
   ],
   "metadata": {
    "collapsed": false,
    "pycharm": {
     "name": "#%% md\n"
    }
   }
  },
  {
   "cell_type": "code",
   "execution_count": null,
   "outputs": [],
   "source": [
    "for corpus_name in CORPUS_NAMES:\n",
    "    corpus = CorpusHandler(corpus_name, CORPUS_CACHE_PATH)\n",
    "    st = ag.calc_corpus_statistics_for_tagged_senses(corpus)\n",
    "    print(f\"    \\\\textbf{{{corpus.corpus_name}}} & ${st['unique_sense_count']:,}$ & ${st['total_sense_count']:,}$ & ${st['unique_token_count']:,}$ & ${st['total_token_count']:,}$ & ${st['unique_monosemous_token_count']:,}$ & ${st['total_monosemous_token_count']:,}$ & ${st['unique_polysemous_token_count']:,}$ & ${st['total_polysemous_token_count']:,}$ \\\\\\\\\")"
   ],
   "metadata": {
    "collapsed": false,
    "pycharm": {
     "name": "#%%\n"
    }
   }
  },
  {
   "cell_type": "markdown",
   "source": [
    "### Our Baselines as LaTeX Table\n",
    "\n",
    "Shows the No Disambiguation baseline (one cluster/sense per unique token) and Complete Disambiguation baseline (one cluster/sense per token) per corpus."
   ],
   "metadata": {
    "collapsed": false,
    "pycharm": {
     "name": "#%% md\n"
    }
   }
  },
  {
   "cell_type": "code",
   "execution_count": null,
   "outputs": [],
   "source": [
    "for corpus_name in CORPUS_NAMES:\n",
    "    corpus = CorpusHandler(corpus_name, CORPUS_CACHE_PATH)\n",
    "    tagged_tokens = corpus.get_tagged_tokens()\n",
    "\n",
    "    tagged_tokens['sense'] = range(tagged_tokens.token.count())\n",
    "    ari_complete_disambiguation = calc_ari(corpus.get_tagged_tokens(), tagged_tokens)['ari']\n",
    "\n",
    "    tagged_tokens['sense'] = tagged_tokens.token.factorize()[0]\n",
    "    ari_no_disambiguation = calc_ari(corpus.get_tagged_tokens(), tagged_tokens)['ari']\n",
    "\n",
    "    print(f\"    \\\\textbf{{{corpus_name}}} & ${ari_complete_disambiguation:.4f}$ & ${ari_no_disambiguation:.4f}$ \\\\\\\\\")"
   ],
   "metadata": {
    "collapsed": false,
    "pycharm": {
     "name": "#%%\n"
    }
   }
  },
  {
   "cell_type": "markdown",
   "source": [
    "### Relationship Between Sense Counts and Token Counts as Scatter Plot"
   ],
   "metadata": {
    "collapsed": false,
    "pycharm": {
     "name": "#%% md\n"
    }
   }
  },
  {
   "cell_type": "code",
   "execution_count": null,
   "outputs": [],
   "source": [
    "WIDTH = 512\n",
    "HEIGHT = 512\n",
    "\n",
    "for corpus_name in CORPUS_NAMES:\n",
    "    corpus = CorpusHandler(corpus_name, CORPUS_CACHE_PATH)\n",
    "    tagged_tokens = corpus.get_tagged_tokens()\n",
    "    tagged_tokens_and_counts = ag.count_unique_senses_per_token(tagged_tokens[tagged_tokens.tagged_sense])\n",
    "    token_counts_per_sense_count = ag.count_tokens_per_sense_count(tagged_tokens_and_counts)\n",
    "\n",
    "    fig = px.scatter(token_counts_per_sense_count, x='unique_sense_count', y='unique_token_count',\n",
    "                     color='total_token_count', size='total_token_count', color_continuous_scale=px.colors.sequential.Greys,\n",
    "                     log_x=True, log_y=True, labels=LABEL_DICT,\n",
    "                     template='plotly_white', width=WIDTH, height=HEIGHT)\n",
    "    fig.update_layout(coloraxis_colorbar=dict(title_side='right',\n",
    "                                              thicknessmode=\"fraction\", thickness=0.04,\n",
    "                                              ticks=\"outside\"))\n",
    "    fig.update_traces(marker={'line': {'color': 'black'}})\n",
    "\n",
    "    if SHOW_FIG:\n",
    "        fig.show()\n",
    "    if SAVE_FIG:\n",
    "        fig_name = f'fig_{corpus_name.lower()}-tokens_and_senses-scatter'\n",
    "        fig.write_image(f'./data/plots/{fig_name}.pdf')\n",
    "        print(f\"  \\\\subfloat[][{corpus_name}]{{\\\\includegraphics[width=0.38\\\\textwidth]{{./fig/{fig_name}}}}} \\\\;\")"
   ],
   "metadata": {
    "collapsed": false,
    "pycharm": {
     "name": "#%%\n"
    }
   }
  },
  {
   "cell_type": "markdown",
   "source": [
    "## Dictionary Evaluation\n",
    "### ARI per Unique Sense Count as Bar Plot (Multiple Linkage Criteria)"
   ],
   "metadata": {
    "collapsed": false,
    "pycharm": {
     "name": "#%% md\n"
    }
   }
  },
  {
   "cell_type": "code",
   "execution_count": null,
   "outputs": [],
   "source": [
    "WIDTH = 1024\n",
    "HEIGHT = 387\n",
    "\n",
    "EXPERIMENT_NAMES = []\n",
    "\n",
    "sense_stats = list()\n",
    "for experiment_name in EXPERIMENT_NAMES:\n",
    "    stats = fh.load_stats(RESULTS_PATH, fg.gen_stats_file_name(experiment_name))\n",
    "    corpus = CorpusHandler(stats['corpus_name'], CORPUS_CACHE_PATH)\n",
    "    dictionary = fh.load_df(RESULTS_PATH, fg.gen_dictionary_file_name(experiment_name))\n",
    "    dictionary = calc_ari_per_token(corpus.get_tagged_tokens(), dictionary)\n",
    "    if 'unique_sense_count' not in dictionary.columns:\n",
    "        dictionary = add_sense_counts_to_id_map(corpus.get_tagged_tokens(), dictionary)\n",
    "    ari_per_sense_count = dictionary[dictionary.tagged_token].groupby(by='unique_sense_count').aggregate({'ari': 'mean'}).reset_index()\n",
    "    ari_per_sense_count['Linkage'] = stats['linkage_name']\n",
    "    ari_per_sense_count['Corpus'] = corpus.corpus_name\n",
    "    sense_stats.append(ari_per_sense_count)\n",
    "\n",
    "ari_per_sense_count = pd.concat(sense_stats)\n",
    "assert ari_per_sense_count.Corpus.nunique() == 1\n",
    "corpus_name = ari_per_sense_count.loc[0, 'Corpus']\n",
    "\n",
    "fig_ari_per_sense_count = px.bar(\n",
    "    ari_per_sense_count, x='unique_sense_count', y='ari',\n",
    "    pattern_shape='Linkage', color='Linkage', barmode='group',\n",
    "    labels=LABEL_DICT, template='plotly_white', width=WIDTH, height=HEIGHT)\n",
    "fig_ari_per_sense_count.update_xaxes(\n",
    "    showgrid=False, ticks=\"outside\", tickson=\"labels\", ticklen=4,\n",
    "    nticks=int(ari_per_sense_count.unique_sense_count.max()))\n",
    "\n",
    "if SHOW_FIG:\n",
    "    ari_per_sense_count.show()\n",
    "if SAVE_FIG:\n",
    "    fig_name = f'fig_{corpus_name.lower()}-affinity_euclidean-ari-bar'\n",
    "    fig_ari_per_sense_count.write_image(f'./data/plots/{fig_name}.pdf')\n",
    "    print(f\"  \\\\subfloat[][{corpus_name}]{{\\\\includegraphics[width=0.49\\\\textwidth]{{./fig/{fig_name}}}}} \\\\;\")"
   ],
   "metadata": {
    "collapsed": false,
    "pycharm": {
     "name": "#%%\n"
    }
   }
  },
  {
   "cell_type": "markdown",
   "source": [
    "### Silhouette Coefficient per Unique Sense Count as Bar Plot"
   ],
   "metadata": {
    "collapsed": false,
    "pycharm": {
     "name": "#%% md\n"
    }
   }
  },
  {
   "cell_type": "code",
   "execution_count": null,
   "outputs": [],
   "source": [
    "WIDTH = 1024\n",
    "HEIGHT = 387\n",
    "\n",
    "EXPERIMENT_NAMES = []\n",
    "\n",
    "sense_stats = list()\n",
    "for experiment_name in EXPERIMENT_NAMES:\n",
    "    stats = fh.load_stats(RESULTS_PATH, fg.gen_stats_file_name(experiment_name))\n",
    "    corpus = CorpusHandler(stats['corpus_name'], CORPUS_CACHE_PATH)\n",
    "    word_vectors = fh.load_matrix(RESULTS_PATH, fg.gen_word_vec_file_name(corpus.corpus_name))\n",
    "    dictionary = fh.load_df(RESULTS_PATH, fg.gen_dictionary_file_name(experiment_name))\n",
    "    dictionary = calc_silhouette_score_per_token(word_vectors, dictionary, MetricName.EUCLIDEAN)\n",
    "    dictionary = calc_ari_per_token(corpus.get_tagged_tokens(), dictionary)\n",
    "    if 'unique_sense_count' not in dictionary.columns:\n",
    "        dictionary = add_sense_counts_to_id_map(corpus.get_tagged_tokens(), dictionary)\n",
    "    silhouette_score_per_sense_count = dictionary[dictionary.tagged_token].groupby(by='unique_sense_count').aggregate({'silhouette_score': 'mean'}).dropna().reset_index()\n",
    "    silhouette_score_per_sense_count['Linkage'] = stats['linkage_name']\n",
    "    sense_stats.append(silhouette_score_per_sense_count)\n",
    "\n",
    "silhouette_score_per_sense_count = pd.concat(sense_stats)\n",
    "assert silhouette_score_per_sense_count.Corpus.nunique() == 1\n",
    "corpus_name = silhouette_score_per_sense_count.loc[0, 'Corpus']\n",
    "\n",
    "fig_silhouette_score_per_sense_count = px.bar(\n",
    "    silhouette_score_per_sense_count, x='unique_sense_count', y='silhouette_score',\n",
    "    pattern_shape='Linkage', color='Linkage', barmode='group',\n",
    "    labels=LABEL_DICT, template='plotly_white', width=WIDTH, height=HEIGHT)\n",
    "fig_silhouette_score_per_sense_count.update_xaxes(\n",
    "    showgrid=False, ticks=\"outside\", tickson=\"labels\", ticklen=4,\n",
    "    nticks=int(silhouette_score_per_sense_count.unique_sense_count.max()))\n",
    "if SHOW_FIG:\n",
    "    fig_silhouette_score_per_sense_count.show()\n",
    "if SAVE_FIG:\n",
    "    fig_name = f'fig_{corpus_name.lower()}-affinity_euclidean-silhouette-bar'\n",
    "    fig_silhouette_score_per_sense_count.write_image(f'./data/plots/{fig_name}.pdf')\n",
    "    print(f\"  \\\\subfloat[][{corpus_name}]{{\\includegraphics[width=0.49\\\\textwidth]{{./fig/{fig_name}}}}} \\\\;\")"
   ],
   "metadata": {
    "collapsed": false,
    "pycharm": {
     "name": "#%%\n"
    }
   }
  },
  {
   "cell_type": "markdown",
   "source": [
    "### ARI per Unique Sense Count as Bar Plot (Single Linkage Criterion)"
   ],
   "metadata": {
    "collapsed": false,
    "pycharm": {
     "name": "#%% md\n"
    }
   }
  },
  {
   "cell_type": "code",
   "execution_count": null,
   "outputs": [],
   "source": [
    "WIDTH = 1024\n",
    "HEIGHT = 387\n",
    "\n",
    "EXPERIMENT_NAMES = []\n",
    "\n",
    "for experiment_name in EXPERIMENT_NAMES:\n",
    "    stats = fh.load_stats(RESULTS_PATH, fg.gen_stats_file_name(experiment_name))\n",
    "    corpus = CorpusHandler(stats['corpus_name'], CORPUS_CACHE_PATH)\n",
    "    dictionary = fh.load_df(RESULTS_PATH, fg.gen_dictionary_file_name(experiment_name))\n",
    "    dictionary = calc_ari_per_token(corpus.get_tagged_tokens(), dictionary)\n",
    "    if 'unique_sense_count' not in dictionary.columns:\n",
    "        dictionary = add_sense_counts_to_id_map(corpus.get_tagged_tokens(), dictionary)\n",
    "    ari_per_sense_count = dictionary[dictionary.tagged_token].groupby(by='unique_sense_count').aggregate({'ari': 'mean'}).reset_index()\n",
    "    ari_per_sense_count['Linkage'] = stats['linkage_name']\n",
    "    ari_per_sense_count['Corpus'] = corpus.corpus_name\n",
    "\n",
    "    fig_ari_per_sense_count = px.bar(\n",
    "        ari_per_sense_count, x='unique_sense_count', y='ari',\n",
    "        pattern_shape='Linkage', color='Linkage', barmode='group',\n",
    "        labels=LABEL_DICT, template='plotly_white', width=WIDTH, height=HEIGHT)\n",
    "    fig_ari_per_sense_count.update_xaxes(\n",
    "        showgrid=False, ticks=\"outside\", tickson=\"labels\", ticklen=4,\n",
    "        nticks=int(ari_per_sense_count.unique_sense_count.max()))\n",
    "\n",
    "    if SHOW_FIG:\n",
    "        fig_ari_per_sense_count.show()\n",
    "    if SAVE_FIG:\n",
    "        fig_name = f'{experiment_name}-ari-bar'\n",
    "        fig_ari_per_sense_count.write_image(f'./data/plots/{fig_name}.pdf')\n",
    "        print(f\"  \\\\subfloat[][{corpus.corpus_name}]{{\\\\includegraphics[width=0.49\\\\textwidth]{{./fig/{fig_name}}}}} \\\\;\")"
   ],
   "metadata": {
    "collapsed": false,
    "pycharm": {
     "name": "#%%\n",
     "is_executing": true
    }
   }
  },
  {
   "cell_type": "markdown",
   "source": [
    "### Confusion Matrix for Sense Counts"
   ],
   "metadata": {
    "collapsed": false,
    "pycharm": {
     "name": "#%% md\n"
    }
   }
  },
  {
   "cell_type": "code",
   "execution_count": null,
   "outputs": [],
   "source": [
    "WIDTH = 512\n",
    "HEIGHT = 512\n",
    "\n",
    "EXPERIMENT_NAMES = []\n",
    "\n",
    "for experiment_name in EXPERIMENT_NAMES:\n",
    "    stats = fh.load_stats(RESULTS_PATH, fg.gen_stats_file_name(experiment_name))\n",
    "    corpus = CorpusHandler(stats['corpus_name'], CORPUS_CACHE_PATH)\n",
    "\n",
    "    id_map = fh.load_df(RESULTS_PATH, fg.gen_dictionary_file_name(experiment_name))\n",
    "    tagged_tokens = corpus.get_tagged_tokens()\n",
    "    id_map = ag.unpack_and_sort_per_token_id(id_map, ['sentence_id', 'token_id', 'sense'])\n",
    "    id_map = id_map[tagged_tokens.tagged_sense]\n",
    "    tagged_tokens = tagged_tokens[tagged_tokens.tagged_sense]\n",
    "    id_map.rename(columns = {'sense': 'pred_sense'}, inplace = True)\n",
    "    id_map['true_sense'] = tagged_tokens.sense\n",
    "    id_map = id_map.groupby(by='token').agg({'pred_sense': 'nunique', 'true_sense': 'nunique'}).reset_index()\n",
    "    confusion_matrix = pd.crosstab(id_map.pred_sense, id_map.true_sense)\n",
    "\n",
    "    fig_confusion_matrix = ff.create_annotated_heatmap(confusion_matrix.to_numpy(), showscale=True,\n",
    "                                                       x=confusion_matrix.columns.to_list(), y=confusion_matrix.index.to_list())\n",
    "    fig_confusion_matrix.update_layout(width=WIDTH, height=HEIGHT, template='plotly_white')\n",
    "    fig_confusion_matrix.update_xaxes(title='True Sense Count', side='bottom')\n",
    "    fig_confusion_matrix.update_yaxes(title='Predicted Sense Count')\n",
    "\n",
    "    if SHOW_FIG:\n",
    "        fig_confusion_matrix.show()\n",
    "    if SAVE_FIG:\n",
    "        fig_name = f'{experiment_name}-sense_count_confusion_matrix'\n",
    "        fig_confusion_matrix.write_image(f'./data/plots/{fig_name}.pdf')\n",
    "        print(f\"  \\\\subfloat[][{stats['corpus_name']}]{{\\\\includegraphics[width=0.49\\\\textwidth]{{./fig/{fig_name}}}}} \\\\;\")"
   ],
   "metadata": {
    "collapsed": false,
    "pycharm": {
     "name": "#%%\n"
    }
   }
  },
  {
   "cell_type": "markdown",
   "source": [
    "### Histogram for Median of Last Cut Linkage Distance Thresholds"
   ],
   "metadata": {
    "collapsed": false,
    "pycharm": {
     "name": "#%% md\n"
    }
   }
  },
  {
   "cell_type": "code",
   "execution_count": null,
   "outputs": [],
   "source": [
    "pd.options.plotting.backend = \"plotly\"\n",
    "WIDTH = 1024\n",
    "HEIGHT = 387\n",
    "\n",
    "EXPERIMENT_NAMES = []\n",
    "\n",
    "distance_stats = []\n",
    "for experiment_name in EXPERIMENT_NAMES:\n",
    "    stats = fh.load_stats(RESULTS_PATH, fg.gen_stats_file_name(experiment_name))\n",
    "    dictionary = fh.load_df(RESULTS_PATH, fg.gen_dictionary_file_name(experiment_name))\n",
    "\n",
    "    dictionary = dictionary[dictionary.unique_sense_count >= 2].last_cut_distances.apply(np.median)\n",
    "    fig = dictionary.plot.hist()\n",
    "    fig.update_layout(width=WIDTH, height=HEIGHT, template='plotly_white')\n",
    "    fig.update_xaxes(title= 'Last Cut Linkage Distance')\n",
    "    fig.update_yaxes(title='Count')\n",
    "    distance_stats.append(f\"\\\\textbf{{{stats['corpus_name']}}} & {dictionary.mean():.4f} & {dictionary.std():.4f} \\\\\\\\\")\n",
    "\n",
    "    if SHOW_FIG:\n",
    "        fig.show()\n",
    "    if SAVE_FIG:\n",
    "        fig_name = f'{experiment_name}-distance_threshold_hist'\n",
    "        fig.write_image(f'./data/plots/{fig_name}.pdf')\n",
    "        print(f\"  \\\\subfloat[][{stats['corpus_name']}]{{\\\\includegraphics[width=0.49\\\\textwidth]{{./fig/{fig_name}}}}} \\\\;\")\n",
    "\n",
    "for stat in distance_stats:\n",
    "    print(stat)"
   ],
   "metadata": {
    "collapsed": false,
    "pycharm": {
     "name": "#%%\n"
    }
   }
  },
  {
   "cell_type": "markdown",
   "source": [
    "### Browse a Dictionary as DataFrame"
   ],
   "metadata": {
    "collapsed": false,
    "pycharm": {
     "name": "#%% md\n"
    }
   }
  },
  {
   "cell_type": "code",
   "execution_count": null,
   "outputs": [],
   "source": [
    "EXPERIMENT_PREFIX = ''\n",
    "dictionary = fh.load_df(RESULTS_PATH, fg.gen_dictionary_file_name(EXPERIMENT_PREFIX))\n",
    "ag.pack_sentence_ids_and_token_ids(\n",
    "    ag.unpack_and_sort_per_token_id(\n",
    "        dictionary,\n",
    "        ['sentence_id', 'token_id', 'sense']),\n",
    "    ['token', 'sense'])"
   ],
   "metadata": {
    "collapsed": false,
    "pycharm": {
     "name": "#%%\n"
    }
   }
  }
 ],
 "metadata": {
  "kernelspec": {
   "display_name": "Python 3",
   "language": "python",
   "name": "python3"
  },
  "language_info": {
   "codemirror_mode": {
    "name": "ipython",
    "version": 2
   },
   "file_extension": ".py",
   "mimetype": "text/x-python",
   "name": "python",
   "nbconvert_exporter": "python",
   "pygments_lexer": "ipython2",
   "version": "2.7.6"
  }
 },
 "nbformat": 4,
 "nbformat_minor": 0
}