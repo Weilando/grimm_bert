{
 "cells": [
  {
   "cell_type": "markdown",
   "source": [
    "# Evaluation\n",
    "## Setup"
   ],
   "metadata": {
    "collapsed": false,
    "pycharm": {
     "name": "#%% md\n"
    }
   }
  },
  {
   "cell_type": "code",
   "execution_count": null,
   "outputs": [],
   "source": [
    "import aggregation.aggregator as ag\n",
    "import data.file_handler as fh\n",
    "import data.file_name_generator as fg\n",
    "from aggregation.pipeline_blocks import add_sense_counts_to_id_map, calc_ari, calc_ari_per_token, calc_silhouette_score_per_token\n",
    "from clustering.linkage_name import LinkageName\n",
    "from clustering.metric_name import MetricName\n",
    "from data.corpus_handler import CorpusName, CorpusHandler\n",
    "import plotly.express as px"
   ],
   "metadata": {
    "collapsed": false,
    "pycharm": {
     "name": "#%%\n"
    }
   }
  },
  {
   "cell_type": "code",
   "execution_count": null,
   "outputs": [],
   "source": [
    "LABEL_DICT = {'unique_sense_count': 'Unique Sense Count',\n",
    "              'total_token_count': 'Total Token Count',\n",
    "              'unique_token_count': 'Unique Token Count',\n",
    "              'ari': 'ARI',\n",
    "              'silhouette_score': 'Silhouette Score'}\n",
    "WIDTH = 512\n",
    "HEIGHT = 256"
   ],
   "metadata": {
    "collapsed": false,
    "pycharm": {
     "name": "#%%\n"
    }
   }
  },
  {
   "cell_type": "markdown",
   "source": [
    "## Corpus Evaluation"
   ],
   "metadata": {
    "collapsed": false,
    "pycharm": {
     "name": "#%% md\n"
    }
   }
  },
  {
   "cell_type": "code",
   "execution_count": null,
   "outputs": [],
   "source": [
    "corpus = CorpusHandler(CorpusName.TOY, './data/corpus_cache')\n",
    "st = ag.calc_corpus_statistics_for_tagged_senses(corpus)\n",
    "st"
   ],
   "metadata": {
    "collapsed": false,
    "pycharm": {
     "name": "#%%\n"
    }
   }
  },
  {
   "cell_type": "code",
   "execution_count": null,
   "outputs": [],
   "source": [
    "tagged_tokens = corpus.get_tagged_tokens()"
   ],
   "metadata": {
    "collapsed": false,
    "pycharm": {
     "name": "#%%\n"
    }
   }
  },
  {
   "cell_type": "markdown",
   "source": [
    "### Complete Disambiguation Baseline: One cluster/sense per token"
   ],
   "metadata": {
    "collapsed": false,
    "pycharm": {
     "name": "#%% md\n"
    }
   }
  },
  {
   "cell_type": "code",
   "execution_count": null,
   "outputs": [],
   "source": [
    "tagged_tokens['sense'] = range(tagged_tokens.token.count())\n",
    "calc_ari(corpus.get_tagged_tokens(), tagged_tokens)"
   ],
   "metadata": {
    "collapsed": false,
    "pycharm": {
     "name": "#%%\n"
    }
   }
  },
  {
   "cell_type": "markdown",
   "source": [
    "### No Disambiguation Baseline: One cluster/sense per unique token"
   ],
   "metadata": {
    "collapsed": false,
    "pycharm": {
     "name": "#%% md\n"
    }
   }
  },
  {
   "cell_type": "code",
   "execution_count": null,
   "outputs": [],
   "source": [
    "tagged_tokens['sense'] = tagged_tokens.token.factorize()[0]\n",
    "calc_ari(corpus.get_tagged_tokens(), tagged_tokens)"
   ],
   "metadata": {
    "collapsed": false,
    "pycharm": {
     "name": "#%%\n"
    }
   }
  },
  {
   "cell_type": "markdown",
   "source": [
    "### Relationship Between Sense Counts and Token Counts"
   ],
   "metadata": {
    "collapsed": false,
    "pycharm": {
     "name": "#%% md\n"
    }
   }
  },
  {
   "cell_type": "code",
   "execution_count": null,
   "outputs": [],
   "source": [
    "tagged_tokens = corpus.get_tagged_tokens()\n",
    "tagged_tokens_and_counts = ag.count_unique_senses_per_token(tagged_tokens[tagged_tokens.tagged_sense])\n",
    "token_counts_per_sense_count = ag.count_tokens_per_sense_count(tagged_tokens_and_counts)\n",
    "token_counts_per_sense_count.head()"
   ],
   "metadata": {
    "collapsed": false,
    "pycharm": {
     "name": "#%%\n"
    }
   }
  },
  {
   "cell_type": "code",
   "execution_count": null,
   "outputs": [],
   "source": [
    "fig = px.scatter(token_counts_per_sense_count, x='unique_sense_count', y='unique_token_count',\n",
    "                 color='total_token_count', size='total_token_count', color_continuous_scale=px.colors.sequential.Greys,\n",
    "                 log_x=True, log_y=True, labels=LABEL_DICT,\n",
    "                 template='plotly_white', width=WIDTH, height=WIDTH)\n",
    "fig.update_layout(coloraxis_colorbar=dict(title_side='right',\n",
    "                                          thicknessmode=\"fraction\", thickness=0.04,\n",
    "                                          ticks=\"outside\"))\n",
    "fig.update_traces(marker={'line': {'color': 'black'}})\n",
    "\n",
    "fig.show()\n",
    "#fig.write_image(f'data/plots/fig_{corpus.corpus_name}_tokens_and_senses.pdf')"
   ],
   "metadata": {
    "collapsed": false,
    "pycharm": {
     "name": "#%%\n"
    }
   }
  },
  {
   "cell_type": "markdown",
   "source": [
    "## Dictionary Evaluation"
   ],
   "metadata": {
    "collapsed": false,
    "pycharm": {
     "name": "#%% md\n"
    }
   }
  },
  {
   "cell_type": "code",
   "execution_count": null,
   "outputs": [],
   "source": [
    "ABS_PATH = fh.add_and_get_abs_path('./data/results')\n",
    "#EXPERIMENT_PREFIX = fg.gen_experiment_prefix(corpus.corpus_name, MetricName.COSINE, LinkageName.SINGLE, 0.4)\n",
    "#EXPERIMENT_PREFIX = fg.gen_experiment_prefix_no_dist(corpus.corpus_name, MetricName.EUCLIDEAN, LinkageName.SINGLE)\n",
    "dictionary = fh.load_df(ABS_PATH, fg.gen_dictionary_file_name(EXPERIMENT_PREFIX))"
   ],
   "metadata": {
    "collapsed": false,
    "pycharm": {
     "name": "#%%\n"
    }
   }
  },
  {
   "cell_type": "markdown",
   "source": [
    "### Browse Dictionary"
   ],
   "metadata": {
    "collapsed": false,
    "pycharm": {
     "name": "#%% md\n"
    }
   }
  },
  {
   "cell_type": "code",
   "execution_count": null,
   "outputs": [],
   "source": [
    "ag.pack_sentence_ids_and_token_ids(\n",
    "    ag.unpack_and_sort_per_token_id(\n",
    "        dictionary,\n",
    "        ['sentence_id', 'token_id', 'sense']),\n",
    "    ['token', 'sense'])"
   ],
   "metadata": {
    "collapsed": false,
    "pycharm": {
     "name": "#%%\n"
    }
   }
  },
  {
   "cell_type": "markdown",
   "source": [
    "### ARI per Token and Unique Sense Count"
   ],
   "metadata": {
    "collapsed": false,
    "pycharm": {
     "name": "#%% md\n"
    }
   }
  },
  {
   "cell_type": "code",
   "execution_count": null,
   "outputs": [],
   "source": [
    "dictionary = calc_ari_per_token(corpus.get_tagged_tokens(), dictionary)\n",
    "fig_ari_per_token = px.histogram(dictionary[dictionary.tagged_token], x='ari', range_x=[-1, 1],\n",
    "                                 labels=LABEL_DICT,\n",
    "                                 template='plotly_white', width=WIDTH, height=HEIGHT)\n",
    "fig_ari_per_token.show()"
   ],
   "metadata": {
    "collapsed": false,
    "pycharm": {
     "name": "#%%\n"
    }
   }
  },
  {
   "cell_type": "code",
   "execution_count": null,
   "outputs": [],
   "source": [
    "if 'unique_sense_count' not in dictionary.columns:\n",
    "    dictionary = add_sense_counts_to_id_map(corpus.get_tagged_tokens(), dictionary)\n",
    "ari_per_sense_count = dictionary[dictionary.tagged_token].groupby(by='unique_sense_count').aggregate({'ari': 'mean'}).reset_index()\n",
    "\n",
    "fig_ari_per_sense_count = px.bar(ari_per_sense_count, x='unique_sense_count', y='ari',\n",
    "                                 labels=LABEL_DICT, template='plotly_white', width=WIDTH, height=HEIGHT)\n",
    "fig_ari_per_sense_count.update_xaxes(\n",
    "    showgrid=False, ticks=\"outside\", tickson=\"labels\", ticklen=4,\n",
    "    nticks=int(ari_per_sense_count.unique_sense_count.max()))\n",
    "\n",
    "fig_ari_per_sense_count.show()"
   ],
   "metadata": {
    "collapsed": false,
    "pycharm": {
     "name": "#%%\n"
    }
   }
  },
  {
   "cell_type": "markdown",
   "source": [
    "### Silhouette Coefficient per Token and Unique Sense Count"
   ],
   "metadata": {
    "collapsed": false,
    "pycharm": {
     "name": "#%% md\n"
    }
   }
  },
  {
   "cell_type": "code",
   "execution_count": null,
   "outputs": [],
   "source": [
    "word_vectors = fh.load_matrix(ABS_PATH, fg.gen_word_vec_file_name(corpus.corpus_name))\n",
    "dictionary = calc_silhouette_score_per_token(word_vectors, dictionary, MetricName.EUCLIDEAN)\n",
    "fig_silhouette_score_per_token = px.histogram(dictionary[dictionary.tagged_token], x='silhouette_score', range_x=[-1, 1],\n",
    "                                 labels=LABEL_DICT,\n",
    "                                 template='plotly_white', width=WIDTH, height=HEIGHT)\n",
    "fig_silhouette_score_per_token.show()"
   ],
   "metadata": {
    "collapsed": false,
    "pycharm": {
     "name": "#%%\n"
    }
   }
  },
  {
   "cell_type": "code",
   "execution_count": null,
   "outputs": [],
   "source": [
    "if 'unique_sense_count' not in dictionary.columns:\n",
    "    dictionary = add_sense_counts_to_id_map(corpus.get_tagged_tokens(), dictionary)\n",
    "silhouette_score_per_sense_count = dictionary[dictionary.tagged_token].groupby(by='unique_sense_count').aggregate({'silhouette_score': 'mean'}).dropna().reset_index()\n",
    "\n",
    "fig_silhouette_score_per_sense_count = px.bar(silhouette_score_per_sense_count, x='unique_sense_count', y='silhouette_score',\n",
    "                                 labels=LABEL_DICT, template='plotly_white', width=WIDTH, height=HEIGHT)\n",
    "fig_silhouette_score_per_sense_count.update_xaxes(\n",
    "    showgrid=False, ticks=\"outside\", tickson=\"labels\", ticklen=4,\n",
    "    nticks=int(silhouette_score_per_sense_count.unique_sense_count.max()))\n",
    "\n",
    "fig_silhouette_score_per_sense_count.show()"
   ],
   "metadata": {
    "collapsed": false,
    "pycharm": {
     "name": "#%%\n"
    }
   }
  },
  {
   "cell_type": "code",
   "execution_count": null,
   "outputs": [],
   "source": [],
   "metadata": {
    "collapsed": false,
    "pycharm": {
     "name": "#%%\n"
    }
   }
  }
 ],
 "metadata": {
  "kernelspec": {
   "display_name": "Python 3",
   "language": "python",
   "name": "python3"
  },
  "language_info": {
   "codemirror_mode": {
    "name": "ipython",
    "version": 2
   },
   "file_extension": ".py",
   "mimetype": "text/x-python",
   "name": "python",
   "nbconvert_exporter": "python",
   "pygments_lexer": "ipython2",
   "version": "2.7.6"
  }
 },
 "nbformat": 4,
 "nbformat_minor": 0
}