{
 "cells": [
  {
   "cell_type": "code",
   "execution_count": null,
   "metadata": {
    "collapsed": true
   },
   "outputs": [],
   "source": [
    "from data import file_handler as fh\n",
    "from analysis import aggregator as ag"
   ]
  },
  {
   "cell_type": "code",
   "execution_count": null,
   "outputs": [],
   "source": [
    "ABS_PATH = fh.add_and_get_abs_path('./data/results')\n",
    "dictionary = fh.load_df(ABS_PATH, 'Toy-dist_0.4-dictionary.pkl')\n",
    "#dictionary = fh.load_df(ABS_PATH, 'SemCor-dist_0.4-dictionary.pkl')"
   ],
   "metadata": {
    "collapsed": false,
    "pycharm": {
     "name": "#%%\n"
    }
   }
  },
  {
   "cell_type": "code",
   "execution_count": null,
   "outputs": [],
   "source": [
    "ag.collect_references_and_word_vectors(\n",
    "    ag.unpack_per_word_vector(\n",
    "        dictionary,\n",
    "        ['reference_id', 'word_vector_id', 'sense']),\n",
    "    ['token', 'sense'])"
   ],
   "metadata": {
    "collapsed": false,
    "pycharm": {
     "name": "#%%\n"
    }
   }
  }
 ],
 "metadata": {
  "kernelspec": {
   "display_name": "Python 3",
   "language": "python",
   "name": "python3"
  },
  "language_info": {
   "codemirror_mode": {
    "name": "ipython",
    "version": 2
   },
   "file_extension": ".py",
   "mimetype": "text/x-python",
   "name": "python",
   "nbconvert_exporter": "python",
   "pygments_lexer": "ipython2",
   "version": "2.7.6"
  }
 },
 "nbformat": 4,
 "nbformat_minor": 0
}