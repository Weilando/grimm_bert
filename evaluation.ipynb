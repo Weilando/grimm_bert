{
 "cells": [
  {
   "cell_type": "code",
   "execution_count": null,
   "metadata": {
    "collapsed": true
   },
   "outputs": [],
   "source": [
    "import analysis.aggregator as ag\n",
    "import data.file_handler as fh\n",
    "from analysis.pipeline_blocks import evaluate_clustering\n",
    "from data.corpus_handler import CorpusName, CorpusHandler"
   ]
  },
  {
   "cell_type": "code",
   "execution_count": null,
   "outputs": [],
   "source": [
    "ABS_PATH = fh.add_and_get_abs_path('./data/results')\n",
    "dictionary = fh.load_df(ABS_PATH, 'Toy-linkage_complete-dist_0.4-dictionary.pkl')\n",
    "#dictionary = fh.load_df(ABS_PATH, 'SemCor-dist_0.4-dictionary.pkl')"
   ],
   "metadata": {
    "collapsed": false,
    "pycharm": {
     "name": "#%%\n"
    }
   }
  },
  {
   "cell_type": "code",
   "execution_count": null,
   "outputs": [],
   "source": [
    "ag.collect_references_and_word_vectors(\n",
    "    ag.unpack_per_word_vector(\n",
    "        dictionary,\n",
    "        ['reference_id', 'word_vector_id', 'sense']),\n",
    "    ['token', 'sense'])"
   ],
   "metadata": {
    "collapsed": false,
    "pycharm": {
     "name": "#%%\n"
    }
   }
  },
  {
   "cell_type": "markdown",
   "source": [
    "## Corpus Baseline"
   ],
   "metadata": {
    "collapsed": false
   }
  },
  {
   "cell_type": "code",
   "execution_count": null,
   "outputs": [],
   "source": [
    "corpus = CorpusHandler(CorpusName.SEMCOR, './data/corpus_cache')\n",
    "tagged_tokens = corpus.get_tagged_tokens()"
   ],
   "metadata": {
    "collapsed": false,
    "pycharm": {
     "name": "#%%\n"
    }
   }
  },
  {
   "cell_type": "code",
   "execution_count": null,
   "outputs": [],
   "source": [
    "ag.calc_corpus_statistics(corpus)"
   ],
   "metadata": {
    "collapsed": false,
    "pycharm": {
     "name": "#%%\n"
    }
   }
  },
  {
   "cell_type": "markdown",
   "source": [
    "One cluster/sense per token"
   ],
   "metadata": {
    "collapsed": false
   }
  },
  {
   "cell_type": "code",
   "execution_count": null,
   "outputs": [],
   "source": [
    "tagged_tokens['sense'] = range(tagged_tokens.token.count())\n",
    "tagged_tokens.sense.nunique(), evaluate_clustering(corpus, tagged_tokens)"
   ],
   "metadata": {
    "collapsed": false,
    "pycharm": {
     "name": "#%%\n"
    }
   }
  },
  {
   "cell_type": "markdown",
   "source": [
    "One cluster/sense per unique token"
   ],
   "metadata": {
    "collapsed": false
   }
  },
  {
   "cell_type": "code",
   "execution_count": null,
   "outputs": [],
   "source": [
    "tagged_tokens['sense'] = tagged_tokens.token.factorize()[0]\n",
    "tagged_tokens.sense.nunique(), evaluate_clustering(corpus, tagged_tokens)"
   ],
   "metadata": {
    "collapsed": false,
    "pycharm": {
     "name": "#%%\n"
    }
   }
  }
 ],
 "metadata": {
  "kernelspec": {
   "display_name": "Python 3",
   "language": "python",
   "name": "python3"
  },
  "language_info": {
   "codemirror_mode": {
    "name": "ipython",
    "version": 2
   },
   "file_extension": ".py",
   "mimetype": "text/x-python",
   "name": "python",
   "nbconvert_exporter": "python",
   "pygments_lexer": "ipython2",
   "version": "2.7.6"
  }
 },
 "nbformat": 4,
 "nbformat_minor": 0
}