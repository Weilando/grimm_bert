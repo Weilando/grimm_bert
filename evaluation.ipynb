{
 "cells": [
  {
   "cell_type": "markdown",
   "source": [
    "# Evaluation\n",
    "## Setup"
   ],
   "metadata": {
    "collapsed": false,
    "pycharm": {
     "name": "#%% md\n"
    }
   }
  },
  {
   "cell_type": "code",
   "execution_count": null,
   "outputs": [],
   "source": [
    "import analysis.aggregator as ag\n",
    "import data.file_handler as fh\n",
    "from analysis.pipeline_blocks import calc_ari, calc_ari_per_token, add_sense_counts_to_id_map\n",
    "from data.corpus_handler import CorpusName, CorpusHandler\n",
    "import plotly.express as px"
   ],
   "metadata": {
    "collapsed": false,
    "pycharm": {
     "name": "#%%\n"
    }
   }
  },
  {
   "cell_type": "code",
   "execution_count": null,
   "outputs": [],
   "source": [
    "LABEL_DICT = {'unique_sense_count': 'Unique Sense Count',\n",
    "              'total_token_count': 'Total Token Count',\n",
    "              'unique_token_count': 'Unique Token Count',\n",
    "              'ari': 'ARI'}\n",
    "WIDTH = 512\n",
    "HEIGHT = 256"
   ],
   "metadata": {
    "collapsed": false,
    "pycharm": {
     "name": "#%%\n"
    }
   }
  },
  {
   "cell_type": "markdown",
   "source": [
    "## Corpus Evaluation"
   ],
   "metadata": {
    "collapsed": false,
    "pycharm": {
     "name": "#%% md\n"
    }
   }
  },
  {
   "cell_type": "code",
   "execution_count": null,
   "outputs": [],
   "source": [
    "corpus = CorpusHandler(CorpusName.SEMCOR, './data/corpus_cache')\n",
    "st = ag.calc_corpus_statistics_for_tagged_senses(corpus)\n",
    "st"
   ],
   "metadata": {
    "collapsed": false,
    "pycharm": {
     "name": "#%%\n"
    }
   }
  },
  {
   "cell_type": "code",
   "execution_count": null,
   "outputs": [],
   "source": [
    "tagged_tokens = corpus.get_tagged_tokens()"
   ],
   "metadata": {
    "collapsed": false,
    "pycharm": {
     "name": "#%%\n"
    }
   }
  },
  {
   "cell_type": "markdown",
   "source": [
    "### Complete Disambiguation Baseline: One cluster/sense per token"
   ],
   "metadata": {
    "collapsed": false,
    "pycharm": {
     "name": "#%% md\n"
    }
   }
  },
  {
   "cell_type": "code",
   "execution_count": null,
   "outputs": [],
   "source": [
    "tagged_tokens['sense'] = range(tagged_tokens.token.count())\n",
    "calc_ari(corpus.get_tagged_tokens(), tagged_tokens)"
   ],
   "metadata": {
    "collapsed": false,
    "pycharm": {
     "name": "#%%\n"
    }
   }
  },
  {
   "cell_type": "markdown",
   "source": [
    "### No Disambiguation Baseline: One cluster/sense per unique token"
   ],
   "metadata": {
    "collapsed": false,
    "pycharm": {
     "name": "#%% md\n"
    }
   }
  },
  {
   "cell_type": "code",
   "execution_count": null,
   "outputs": [],
   "source": [
    "tagged_tokens['sense'] = tagged_tokens.token.factorize()[0]\n",
    "calc_ari(corpus.get_tagged_tokens(), tagged_tokens)"
   ],
   "metadata": {
    "collapsed": false,
    "pycharm": {
     "name": "#%%\n"
    }
   }
  },
  {
   "cell_type": "markdown",
   "source": [
    "### Relationship Between Sense Counts and Token Counts"
   ],
   "metadata": {
    "collapsed": false,
    "pycharm": {
     "name": "#%% md\n"
    }
   }
  },
  {
   "cell_type": "code",
   "execution_count": null,
   "outputs": [],
   "source": [
    "tagged_tokens = corpus.get_tagged_tokens()\n",
    "tagged_tokens_and_counts = ag.count_unique_senses_per_token(tagged_tokens[tagged_tokens.tagged_sense])\n",
    "token_counts_per_sense_count = ag.count_tokens_per_sense_count(tagged_tokens_and_counts)\n",
    "token_counts_per_sense_count.head()"
   ],
   "metadata": {
    "collapsed": false,
    "pycharm": {
     "name": "#%%\n"
    }
   }
  },
  {
   "cell_type": "code",
   "execution_count": null,
   "outputs": [],
   "source": [
    "fig = px.scatter(token_counts_per_sense_count, x='unique_sense_count', y='unique_token_count',\n",
    "                 color='total_token_count', size='total_token_count', color_continuous_scale=px.colors.sequential.Greys,\n",
    "                 log_x=True, log_y=True, labels=LABEL_DICT,\n",
    "                 template='plotly_white', width=WIDTH, height=WIDTH)\n",
    "fig.update_layout(coloraxis_colorbar=dict(title_side='right',\n",
    "                                          thicknessmode=\"fraction\", thickness=0.04,\n",
    "                                          ticks=\"outside\"))\n",
    "fig.update_traces(marker={'line': {'color': 'black'}})\n",
    "\n",
    "fig.show()\n",
    "#fig.write_image(f'data/plots/fig_{corpus.corpus_name}_tokens_and_senses.pdf')"
   ],
   "metadata": {
    "collapsed": false,
    "pycharm": {
     "name": "#%%\n"
    }
   }
  },
  {
   "cell_type": "code",
   "execution_count": null,
   "outputs": [],
   "source": [
    "tagged_tokens_and_counts[tagged_tokens_and_counts.unique_sense_count > 50].sort_values(by='unique_sense_count')"
   ],
   "metadata": {
    "collapsed": false,
    "pycharm": {
     "name": "#%%\n"
    }
   }
  },
  {
   "cell_type": "markdown",
   "source": [
    "## Dictionary Evaluation"
   ],
   "metadata": {
    "collapsed": false,
    "pycharm": {
     "name": "#%% md\n"
    }
   }
  },
  {
   "cell_type": "code",
   "execution_count": null,
   "outputs": [],
   "source": [
    "ABS_PATH = fh.add_and_get_abs_path('./data/results')\n",
    "#dictionary = fh.load_df(ABS_PATH, 'toy-affinity_cosine-linkage_single-dist_0.4-dictionary.pkl')\n",
    "#dictionary = fh.load_df(ABS_PATH, 'semcor-affinity_cosine-linkage_single-dist_0.4-dictionary.pkl')"
   ],
   "metadata": {
    "collapsed": false,
    "pycharm": {
     "name": "#%%\n"
    }
   }
  },
  {
   "cell_type": "code",
   "execution_count": null,
   "outputs": [],
   "source": [
    "ag.pack_sentence_ids_and_token_ids(\n",
    "    ag.unpack_and_sort_per_token_id(\n",
    "        dictionary,\n",
    "        ['sentence_id', 'token_id', 'sense']),\n",
    "    ['token', 'sense'])"
   ],
   "metadata": {
    "collapsed": false,
    "pycharm": {
     "name": "#%%\n"
    }
   }
  },
  {
   "cell_type": "code",
   "execution_count": null,
   "outputs": [],
   "source": [
    "dictionary = calc_ari_per_token(corpus.get_tagged_tokens(), dictionary)\n",
    "fig_ari_per_token = px.histogram(dictionary[dictionary.tagged_token], x='ari', range_x=[-1, 1],\n",
    "                                 labels=LABEL_DICT,\n",
    "                                 template='plotly_white', width=WIDTH, height=HEIGHT)\n",
    "fig_ari_per_token.show()"
   ],
   "metadata": {
    "collapsed": false,
    "pycharm": {
     "name": "#%%\n"
    }
   }
  },
  {
   "cell_type": "code",
   "execution_count": null,
   "outputs": [],
   "source": [
    "if 'unique_sense_count' not in dictionary.columns:\n",
    "    dictionary = add_sense_counts_to_id_map(corpus.get_tagged_tokens(), dictionary)\n",
    "ari_per_sense_count = dictionary[dictionary.tagged_token].groupby(by='unique_sense_count').aggregate({'ari': 'mean'}).reset_index()\n",
    "ari_per_sense_count"
   ],
   "metadata": {
    "collapsed": false,
    "pycharm": {
     "name": "#%%\n"
    }
   }
  },
  {
   "cell_type": "code",
   "execution_count": null,
   "outputs": [],
   "source": [
    "fig_ari_per_sense_count = px.bar(ari_per_sense_count, x='unique_sense_count', y='ari',\n",
    "                                 labels=LABEL_DICT, template='plotly_white', width=WIDTH, height=HEIGHT)\n",
    "fig_ari_per_sense_count.update_xaxes(\n",
    "    showgrid=False, ticks=\"outside\", tickson=\"labels\", ticklen=4,\n",
    "    nticks=int(ari_per_sense_count.unique_sense_count.max()))\n",
    "\n",
    "fig_ari_per_sense_count.show()"
   ],
   "metadata": {
    "collapsed": false,
    "pycharm": {
     "name": "#%%\n"
    }
   }
  },
  {
   "cell_type": "code",
   "execution_count": null,
   "outputs": [],
   "source": [],
   "metadata": {
    "collapsed": false,
    "pycharm": {
     "name": "#%%\n"
    }
   }
  }
 ],
 "metadata": {
  "kernelspec": {
   "display_name": "Python 3",
   "language": "python",
   "name": "python3"
  },
  "language_info": {
   "codemirror_mode": {
    "name": "ipython",
    "version": 2
   },
   "file_extension": ".py",
   "mimetype": "text/x-python",
   "name": "python",
   "nbconvert_exporter": "python",
   "pygments_lexer": "ipython2",
   "version": "2.7.6"
  }
 },
 "nbformat": 4,
 "nbformat_minor": 0
}